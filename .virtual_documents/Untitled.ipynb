import re





text = "Hello, World! THis is a text."
result = re.split(r'([,.]|\s)', text)
print(result)



